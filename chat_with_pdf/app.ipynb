{
 "cells": [
  {
   "cell_type": "code",
   "execution_count": 4,
   "metadata": {},
   "outputs": [],
   "source": [
    "import streamlit as st \n",
    "from PyPDF2 import PdfReader \n",
    "from langchain.text_splitter import RecursiveCharacterTextSplitter \n",
    "import os \n",
    "from pydantic import BaseModel\n",
    "from langchain_google_genai.embeddings import GoogleGenerativeAIEmbeddings\n",
    "\n",
    "import google.generativeai as genai \n",
    "from langchain.vectorstores import FAISS \n",
    "from langchain_google_genai import ChatGoogleGenerativeAI \n",
    "from langchain.chains.question_answering import load_qa_chain\n",
    "from langchain.prompts import PromptTemplate \n",
    "from dotenv import load_dotenv\n",
    "\n"
   ]
  },
  {
   "cell_type": "code",
   "execution_count": 5,
   "metadata": {},
   "outputs": [
    {
     "data": {
      "text/plain": [
       "False"
      ]
     },
     "execution_count": 5,
     "metadata": {},
     "output_type": "execute_result"
    }
   ],
   "source": [
    "load_dotenv()"
   ]
  },
  {
   "cell_type": "code",
   "execution_count": 7,
   "metadata": {},
   "outputs": [],
   "source": [
    "genai.configure(api_key= \"\")"
   ]
  },
  {
   "cell_type": "code",
   "execution_count": 8,
   "metadata": {},
   "outputs": [],
   "source": [
    "def get_pdf_text(pdf_docs):\n",
    "    text = \"\"\n",
    "    for pdf in pdf_docs:\n",
    "        pdf_reader = PdfReader(pdf)\n",
    "        for page in pdf_reader.pages:\n",
    "            text += page.extract_text()\n",
    "    return text \n",
    "\n",
    "def get_text_from_chunks(text):\n",
    "    text_splitter = RecursiveCharacterTextSplitter(chunk_size=1000,chubk_overlap=1000)\n",
    "    chunks = text_splitter.split_text(text)\n",
    "    return chunks\n",
    "\n",
    "def get_vector_store(text_chunks):\n",
    "    embeddings = GoogleGenerativeAIEmbeddings(model=\"models/embedding-001\")\n",
    "    vector_store = FAISS.from_texts(texts = text_chunks, embedding = embeddings)\n",
    "    vector_store.save_local(\"faiss_index\")\n",
    "    return vector_store\n",
    "\n",
    "def get_conversation_chain(vector_store):\n",
    "    Prompt_template = \"\"\" \n",
    "        Answer the question as detailed as possible form the given conext,dont try to hallucinate the answers,\n",
    "        question: {question}\\n\n",
    "        context : {context}\n",
    "        Answer : \n",
    "        \"\"\"\n",
    "    model = ChatGoogleGenerativeAI(model=\"gemini-pro\",temperature=0.3)\n",
    "    prompt = Prompt_template(template = PromptTemplate,input_variables=[\"question\",\"context\"])\n",
    "    chain = load_qa_chain(model,chain_type=\"stuff\",prompt=prompt)\n",
    "    return chain\n",
    "\n",
    "def user_input(useer_question):\n",
    "    embeddings = GoogleGenerativeAIEmbeddings(model=\"models/embedding-001\")\n",
    "    new_db = FAISS.load_local(\"faiss-index\",embeddings)\n",
    "    docs = new_db.similarity_search(useer_question)\n",
    "    chain = get_conversation_chain()\n",
    "\n",
    "    response = chain( \n",
    "        {\"input_documents\":docs,\"question\":useer_question},\n",
    "        return_only_outputs=True\n",
    "    )\n",
    "    print(response)\n",
    "    \n",
    "\n",
    "\n",
    "\n"
   ]
  },
  {
   "cell_type": "code",
   "execution_count": null,
   "metadata": {},
   "outputs": [],
   "source": []
  }
 ],
 "metadata": {
  "kernelspec": {
   "display_name": "lm_python",
   "language": "python",
   "name": "python3"
  },
  "language_info": {
   "codemirror_mode": {
    "name": "ipython",
    "version": 3
   },
   "file_extension": ".py",
   "mimetype": "text/x-python",
   "name": "python",
   "nbconvert_exporter": "python",
   "pygments_lexer": "ipython3",
   "version": "3.10.14"
  }
 },
 "nbformat": 4,
 "nbformat_minor": 2
}
